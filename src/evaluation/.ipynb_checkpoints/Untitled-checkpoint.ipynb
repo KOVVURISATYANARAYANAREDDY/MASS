{
 "cells": [
  {
   "cell_type": "code",
   "execution_count": 37,
   "id": "f1de1fc1-31a9-49ac-b094-1b87ea04e0db",
   "metadata": {},
   "outputs": [
    {
     "name": "stdout",
     "output_type": "stream",
     "text": [
      "/home/jupyter/Satya/MASS/MASS/MASS_unsupNMT/src/evaluation/multi-bleu.perl\n"
     ]
    }
   ],
   "source": [
    "import os\n",
    "BLEU_SCRIPT_PATH = os.getcwd()+'/multi-bleu.perl'\n",
    "print(BLEU_SCRIPT_PATH)\n",
    "assert os.path.isfile(BLEU_SCRIPT_PATH)\n",
    "import subprocess\n",
    "def eval_moses_bleu(ref, hyp):\n",
    "    \"\"\"\n",
    "    Given a file of hypothesis and reference files,\n",
    "    evaluate the BLEU score using Moses scripts.\n",
    "    \"\"\"\n",
    "    assert os.path.isfile(hyp)\n",
    "    assert os.path.isfile(ref) or os.path.isfile(ref + '0')\n",
    "    assert os.path.isfile(BLEU_SCRIPT_PATH)\n",
    "    command = \"perl \"+BLEU_SCRIPT_PATH + ' %s < %s'\n",
    "    p = subprocess.Popen(command % (ref, hyp), stdout=subprocess.PIPE, shell=True)\n",
    "    result = p.communicate()[0].decode(\"utf-8\")\n",
    "    print(result)\n",
    "    if result.startswith('BLEU'):\n",
    "        return float(result[7:result.index(',')])\n",
    "    else:\n",
    "        #.warning('Impossible to parse BLEU score! \"%s\"' % result)\n",
    "        return -1"
   ]
  },
  {
   "cell_type": "code",
   "execution_count": 38,
   "id": "c7636204-56ec-4612-ba36-19e48aae9f93",
   "metadata": {},
   "outputs": [
    {
     "name": "stdout",
     "output_type": "stream",
     "text": [
      "BLEU = 10.00, 38.7/18.7/12.3/8.1 (BP=0.610, ratio=0.670, hyp_len=7704, ref_len=11506)\n",
      "\n"
     ]
    },
    {
     "data": {
      "text/plain": [
       "10.0"
      ]
     },
     "execution_count": 38,
     "metadata": {},
     "output_type": "execute_result"
    }
   ],
   "source": [
    "eval_moses_bleu(\"../../../../../Data/Posts/Data/Ready/test.en-de.de\", \"../../dumped/unsupMT_ende/tnnnbvuyhb/hypotheses/hyp99.en-de.test.txt\")"
   ]
  },
  {
   "cell_type": "code",
   "execution_count": null,
   "id": "dec5f8b2-f216-486a-9330-43510d26341a",
   "metadata": {},
   "outputs": [],
   "source": []
  }
 ],
 "metadata": {
  "kernelspec": {
   "display_name": "Python 3 (ipykernel)",
   "language": "python",
   "name": "python3"
  },
  "language_info": {
   "codemirror_mode": {
    "name": "ipython",
    "version": 3
   },
   "file_extension": ".py",
   "mimetype": "text/x-python",
   "name": "python",
   "nbconvert_exporter": "python",
   "pygments_lexer": "ipython3",
   "version": "3.7.10"
  }
 },
 "nbformat": 4,
 "nbformat_minor": 5
}
